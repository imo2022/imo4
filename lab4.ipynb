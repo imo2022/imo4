{
 "cells": [
  {
   "cell_type": "code",
   "execution_count": 1,
   "metadata": {},
   "outputs": [],
   "source": [
    "import numpy as np\n",
    "import pandas as pd\n",
    "import importlib\n",
    "import random \n",
    "from time import time\n",
    "import matplotlib.pyplot as plt\n",
    "from scipy.spatial import distance\n",
    "plt.rc('figure', figsize=(8, 5))\n",
    "import helpers as h"
   ]
  },
  {
   "cell_type": "code",
   "execution_count": 20,
   "metadata": {},
   "outputs": [],
   "source": [
    "def msls(points, distances, it=100):\n",
    "    start = time()\n",
    "    cycles = [h.steepest_search(points, distances) for _ in range(it)]\n",
    "    scores = [h.score(distances, c) for c in cycles]\n",
    "    return cycles[np.argmin(scores)], time() - start\n",
    "\n",
    "def change_vertices(cycle1, cycle2, distances):\n",
    "    i = random.randint(0, len(cycle1)-1)\n",
    "    j = random.randint(0, len(cycle2)-1)\n",
    "    return h.change_vertices(cycle1, cycle2, i, j, distances)\n",
    "\n",
    "def change_edges_inside(cycle, distances):\n",
    "    i = random.randint(0, len(cycle)-1)\n",
    "    j = random.randint(0, len(cycle)-1)\n",
    "    return h.change_edges_inside_1(cycle, i, j, distances)\n",
    "\n",
    "def small_perturbation(cycle1, cycle2, n, distances):\n",
    "    per = [random.choice((change_vertices, change_edges_inside)) for _ in range(n)]\n",
    "    for p in per:\n",
    "        if p == change_edges_inside:\n",
    "            c = random.choice((cycle1, cycle2))\n",
    "            c = p(c, distances)\n",
    "        else:\n",
    "            cycle1, cycle2, _ = p(cycle1, cycle2, distances)    \n",
    "    return cycle1, cycle2\n",
    "\n",
    "def ils_small_perturbation(points, distances, max_time, n=10):\n",
    "    start = time()\n",
    "    cycle1, cycle2 = h.random_solution(points, distances)\n",
    "    best_score = h.score(distances, (cycle1, cycle2))\n",
    "    while time() - start < max_time:\n",
    "        cycle1_copy, cycle2_copy = cycle1.copy(), cycle2.copy()\n",
    "        cycle1_copy, cycle2_copy = small_perturbation(cycle1_copy, cycle2_copy, n, distances)\n",
    "        cycles = h.steepest_search(points, distances, cycle1_copy, cycle2_copy)\n",
    "        score = h.score(distances, cycles)\n",
    "        if score < best_score:\n",
    "            cycle1, cycle2 = cycles\n",
    "            best_score = score\n",
    "    return cycle1, cycle2\n",
    "\n",
    "def big_perturbation(cycle1, cycle2, points, distances, fraction=0.2):\n",
    "    fraction = fraction / 2.0\n",
    "    remaining = []\n",
    "    for cycle in (cycle1, cycle2):\n",
    "        n = len(cycle)\n",
    "        delete = n * fraction\n",
    "        start = random.randint(0, n-1)\n",
    "        remaining.extend(cycle[start : start + delete])\n",
    "        cycle[start : start + delete] = []\n",
    "        if start + delete > n:\n",
    "            remaining.extend(cycle[0 : start + delete - n])\n",
    "            cycle[0 : start + delete - n] = []\n",
    "    return h.regret_method(points, distances, cycle1, cycle2, remaining)\n",
    "        \n",
    "\n",
    "\n",
    "def ils_big_perturbation(points, distances, max_time):\n",
    "    start = time()\n",
    "    cycle1, cycle2 = h.random_solution(points, distances)\n",
    "    best_score = h.score(distances, (cycle1, cycle2))\n",
    "    while start - time() < max_time:\n",
    "        cycle1_copy, cycle2_copy = cycle1.copy(), cycle2.copy()\n",
    "        cycle1_copy, cycle2_copy = big_perturbation(cycle1_copy, cycle2_copy, points, distances)\n",
    "        score = h.score(distances, cycles)\n",
    "        if score < best_score:\n",
    "            cycle1, cycle2 = cycles\n",
    "            best_score = score\n",
    "    return cycle1, cycle2    "
   ]
  },
  {
   "cell_type": "code",
   "execution_count": null,
   "metadata": {},
   "outputs": [],
   "source": [
    "points = h.load_file('kroA200.tsp')\n",
    "distances = h.get_distances(points)\n",
    "\n",
    "(c1, c2), t = msls(points, distances, 100)\n",
    "print(t)\n",
    "print(h.score(distances, (c1, c2)))\n",
    "h.draw_path(points, c1, c2)\n",
    "\n",
    "\n",
    "# c1, c2 = ils_small_perturbation(points, distances, t)\n",
    "# print(h.score(distances, (c1, c2)))\n",
    "# h.draw_path(points, c1, c2)\n",
    "\n",
    "# c1, c2 = ils_small_perturbation(points, distances, t)\n",
    "# print(h.score(distances, (c1, c2)))\n",
    "# h.draw_path(points, c1, c2)"
   ]
  },
  {
   "cell_type": "code",
   "execution_count": 27,
   "metadata": {},
   "outputs": [
    {
     "name": "stdout",
     "output_type": "stream",
     "text": [
      "[32, 99, 73, 56, 35, 174, 9, 13, 191, 92, 105, 148, 189, 109, 28, 183, 60, 135, 31, 23, 158, 173, 120, 171, 45, 11, 146, 39, 131, 110, 116, 114, 52, 0, 84, 144, 190, 26, 192, 157, 76, 160, 5, 108, 106, 156, 46, 30, 176, 12, 78, 66, 119, 111, 154, 74, 53, 124, 180, 1, 34, 172, 167, 184, 61, 82, 128, 102, 113, 97, 87, 147, 55, 151, 177, 70, 37, 38, 129, 71, 49, 94, 93, 90, 149, 163, 139, 20, 153, 88, 40, 58, 2, 72, 188, 141, 130, 179, 155, 80] [98, 107, 68, 166, 29, 67, 168, 22, 143, 101, 69, 75, 181, 194, 112, 175, 132, 136, 42, 104, 4, 195, 85, 138, 27, 199, 170, 140, 57, 33, 89, 142, 24, 16, 145, 7, 133, 21, 182, 126, 185, 134, 41, 54, 19, 63, 161, 159, 14, 122, 197, 64, 186, 150, 79, 127, 59, 100, 3, 162, 48, 17, 36, 137, 25, 198, 6, 81, 77, 8, 123, 117, 15, 178, 65, 152, 43, 187, 62, 50, 193, 115, 121, 169, 51, 10, 83, 47, 165, 86, 125, 95, 164, 103, 96, 44, 196, 118, 91, 18]\n"
     ]
    }
   ],
   "source": [
    "print(c1, c2)"
   ]
  }
 ],
 "metadata": {
  "kernelspec": {
   "display_name": "Python 3",
   "language": "python",
   "name": "python3"
  },
  "language_info": {
   "codemirror_mode": {
    "name": "ipython",
    "version": 3
   },
   "file_extension": ".py",
   "mimetype": "text/x-python",
   "name": "python",
   "nbconvert_exporter": "python",
   "pygments_lexer": "ipython3",
   "version": "3.8.5"
  }
 },
 "nbformat": 4,
 "nbformat_minor": 4
}
